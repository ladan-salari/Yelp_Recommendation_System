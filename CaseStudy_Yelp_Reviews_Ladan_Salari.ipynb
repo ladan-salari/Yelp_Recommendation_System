{
 "cells": [
  {
   "cell_type": "markdown",
   "metadata": {},
   "source": [
    "# **Case Study: Yelp Restaurant Recommendation System**\n",
    "\n",
    "---------------\n",
    "## **Context**\n",
    "---------------\n",
    "\n",
    "**Yelp** was founded in **2004** to help people find **great local businesses**. Today, the website and their mobile application publish crowd-sourced reviews about local businesses as well as certain metadata about them that can help in customer's **decision-making process**. Yelp uses automated software to recommend the **most helpful** and **reliable reviews** for the Yelp community from such a large and diverse dataset.\n",
    "\n",
    "The Yelp dataset is a large collection of user reviews, business metadata, business check-ins, users' social network data, user tips for businesses across 10 cities spread across **4 countries**. The original dataset is very huge with ~ 11GB of data. In this case study, we will only use a subset of data due to the hardware limitations.\n",
    "\n",
    "-----------------\n",
    "## **Objective**\n",
    "-----------------\n",
    "\n",
    "In this case study, we will build four types of recommendation systems: \n",
    "- **Knowledge/Rank Based recommendation system**\n",
    "- **Similarity-Based Collaborative filtering**\n",
    "- **Matrix Factorization Based Collaborative Filtering**\n",
    "- **Clustering based recommendation system**\n",
    "\n",
    "\n",
    "-----------------\n",
    "## **Dataset**\n",
    "-----------------\n",
    "\n",
    "Out of many attributes available in the yelp_reviews data, we will only use the following four attributes:\n",
    "- business_id\n",
    "- business_name\n",
    "- stars\n",
    "- user_id"
   ]
  },
  {
   "cell_type": "markdown",
   "metadata": {},
   "source": [
    "## **Import Libraries**"
   ]
  },
  {
   "cell_type": "code",
   "execution_count": null,
   "metadata": {},
   "outputs": [],
   "source": []
  },
  {
   "cell_type": "code",
   "execution_count": 2,
   "metadata": {},
   "outputs": [],
   "source": [
    "# from google.colab import drive \n",
    "# dirve.mount('/content/drive/Mydrive')"
   ]
  },
  {
   "cell_type": "code",
   "execution_count": 3,
   "metadata": {},
   "outputs": [],
   "source": [
    "import pandas as pd \n",
    "import numpy as np \n",
    "\n",
    "import warnings\n",
    "warnings.filterwarnings('ignore')\n",
    "\n",
    "import matplotlib.pyplot as plt \n",
    "import seaborn as sns \n",
    "\n",
    "from collections import defaultdict\n",
    "\n",
    "from surprise import accuracy, CoClustering\n",
    "from surprise.reader import Reader \n",
    "from surprise.dataset import Dataset\n",
    "from surprise.model_selection import GridSearchCV, train_test_split, KFold\n",
    "from surprise.prediction_algorithms.knns import KNNBasic\n",
    "from surprise.prediction_algorithms.matrix_factorization import SVD\n",
    "\n",
    "from sklearn.metrics import mean_squared_error"
   ]
  },
  {
   "cell_type": "markdown",
   "metadata": {},
   "source": [
    "## **Import Data**"
   ]
  },
  {
   "cell_type": "markdown",
   "metadata": {},
   "source": [
    "- based on the problem estatement we only should use these column info (business_id, business_name, stars, and user_id)"
   ]
  },
  {
   "cell_type": "code",
   "execution_count": 4,
   "metadata": {},
   "outputs": [
    {
     "data": {
      "text/html": [
       "<div>\n",
       "<style scoped>\n",
       "    .dataframe tbody tr th:only-of-type {\n",
       "        vertical-align: middle;\n",
       "    }\n",
       "\n",
       "    .dataframe tbody tr th {\n",
       "        vertical-align: top;\n",
       "    }\n",
       "\n",
       "    .dataframe thead th {\n",
       "        text-align: right;\n",
       "    }\n",
       "</style>\n",
       "<table border=\"1\" class=\"dataframe\">\n",
       "  <thead>\n",
       "    <tr style=\"text-align: right;\">\n",
       "      <th></th>\n",
       "      <th>business_id</th>\n",
       "      <th>business_name</th>\n",
       "      <th>stars</th>\n",
       "      <th>user_id</th>\n",
       "    </tr>\n",
       "  </thead>\n",
       "  <tbody>\n",
       "    <tr>\n",
       "      <th>0</th>\n",
       "      <td>9yKzy9PApeiPPOUJEtnvkg</td>\n",
       "      <td>Morning Glory Cafe</td>\n",
       "      <td>5</td>\n",
       "      <td>rLtl8ZkDX5vH5nAx9C3q5Q</td>\n",
       "    </tr>\n",
       "    <tr>\n",
       "      <th>1</th>\n",
       "      <td>ZRJwVLyzEJq1VAihDhYiow</td>\n",
       "      <td>Spinato's Pizzeria</td>\n",
       "      <td>5</td>\n",
       "      <td>0a2KyEL0d3Yb1V6aivbIuQ</td>\n",
       "    </tr>\n",
       "    <tr>\n",
       "      <th>2</th>\n",
       "      <td>6oRAC4uyJCsJl1X0WZpVSA</td>\n",
       "      <td>Haji-Baba</td>\n",
       "      <td>4</td>\n",
       "      <td>0hT2KtfLiobPvh6cDC8JQg</td>\n",
       "    </tr>\n",
       "    <tr>\n",
       "      <th>3</th>\n",
       "      <td>_1QQZuf4zZOyFCvXc0o6Vg</td>\n",
       "      <td>Chaparral Dog Park</td>\n",
       "      <td>5</td>\n",
       "      <td>uZetl9T0NcROGOyFfughhg</td>\n",
       "    </tr>\n",
       "    <tr>\n",
       "      <th>4</th>\n",
       "      <td>6ozycU1RpktNG2-1BroVtw</td>\n",
       "      <td>Discount Tire</td>\n",
       "      <td>5</td>\n",
       "      <td>vYmM4KTsC8ZfQBg-j5MWkw</td>\n",
       "    </tr>\n",
       "  </tbody>\n",
       "</table>\n",
       "</div>"
      ],
      "text/plain": [
       "              business_id       business_name  stars                 user_id\n",
       "0  9yKzy9PApeiPPOUJEtnvkg  Morning Glory Cafe      5  rLtl8ZkDX5vH5nAx9C3q5Q\n",
       "1  ZRJwVLyzEJq1VAihDhYiow  Spinato's Pizzeria      5  0a2KyEL0d3Yb1V6aivbIuQ\n",
       "2  6oRAC4uyJCsJl1X0WZpVSA           Haji-Baba      4  0hT2KtfLiobPvh6cDC8JQg\n",
       "3  _1QQZuf4zZOyFCvXc0o6Vg  Chaparral Dog Park      5  uZetl9T0NcROGOyFfughhg\n",
       "4  6ozycU1RpktNG2-1BroVtw       Discount Tire      5  vYmM4KTsC8ZfQBg-j5MWkw"
      ]
     },
     "execution_count": 4,
     "metadata": {},
     "output_type": "execute_result"
    }
   ],
   "source": [
    "yelp_review = pd.read_csv('yelp_reviews.csv', usecols=['business_id', 'business_name', 'stars',  'user_id'])\n",
    "yelp_review.head()"
   ]
  },
  {
   "cell_type": "code",
   "execution_count": 5,
   "metadata": {},
   "outputs": [
    {
     "name": "stdout",
     "output_type": "stream",
     "text": [
      "<class 'pandas.core.frame.DataFrame'>\n",
      "RangeIndex: 229907 entries, 0 to 229906\n",
      "Data columns (total 4 columns):\n",
      " #   Column         Non-Null Count   Dtype \n",
      "---  ------         --------------   ----- \n",
      " 0   business_id    229907 non-null  object\n",
      " 1   business_name  229907 non-null  object\n",
      " 2   stars          229907 non-null  int64 \n",
      " 3   user_id        229907 non-null  object\n",
      "dtypes: int64(1), object(3)\n",
      "memory usage: 7.0+ MB\n"
     ]
    }
   ],
   "source": [
    "yelp_review.info()"
   ]
  },
  {
   "cell_type": "markdown",
   "metadata": {},
   "source": [
    "- The dataset includes 229,907 resturant info. It has 4 columns which 3 are onjects and 1 intiger.\n",
    "- we don't need both bussiness name and id we can drop the bussiness name and just keep the bussiness id. "
   ]
  },
  {
   "cell_type": "code",
   "execution_count": 6,
   "metadata": {},
   "outputs": [],
   "source": [
    "yelp_review.drop('business_name', axis=1, inplace=True)"
   ]
  },
  {
   "cell_type": "code",
   "execution_count": 7,
   "metadata": {},
   "outputs": [
    {
     "data": {
      "text/plain": [
       "1"
      ]
     },
     "execution_count": 7,
     "metadata": {},
     "output_type": "execute_result"
    }
   ],
   "source": [
    "yelp_review.duplicated().sum()"
   ]
  },
  {
   "cell_type": "code",
   "execution_count": 8,
   "metadata": {},
   "outputs": [
    {
     "data": {
      "text/plain": [
       "business_id    0\n",
       "stars          0\n",
       "user_id        0\n",
       "dtype: int64"
      ]
     },
     "execution_count": 8,
     "metadata": {},
     "output_type": "execute_result"
    }
   ],
   "source": [
    "yelp_review.isnull().sum()"
   ]
  },
  {
   "cell_type": "markdown",
   "metadata": {},
   "source": [
    "- We have zero missing data but one duplicate datapoint. "
   ]
  },
  {
   "cell_type": "markdown",
   "metadata": {},
   "source": [
    "## **Explotary Data Analysis**"
   ]
  },
  {
   "cell_type": "code",
   "execution_count": 9,
   "metadata": {},
   "outputs": [
    {
     "data": {
      "text/plain": [
       "11537"
      ]
     },
     "execution_count": 9,
     "metadata": {},
     "output_type": "execute_result"
    }
   ],
   "source": [
    "yelp_review['business_id'].nunique()"
   ]
  },
  {
   "cell_type": "code",
   "execution_count": 10,
   "metadata": {},
   "outputs": [
    {
     "data": {
      "text/plain": [
       "45981"
      ]
     },
     "execution_count": 10,
     "metadata": {},
     "output_type": "execute_result"
    }
   ],
   "source": [
    "yelp_review['user_id'].nunique()"
   ]
  },
  {
   "cell_type": "code",
   "execution_count": 11,
   "metadata": {},
   "outputs": [
    {
     "data": {
      "image/png": "[encoded data removed]",
      "text/plain": [
       "<Figure size 1000x500 with 1 Axes>"
      ]
     },
     "metadata": {},
     "output_type": "display_data"
    }
   ],
   "source": [
    "plt.figure(figsize=(10, 5))\n",
    "sns.countplot(data=yelp_review, x='stars', palette='tab20')\n",
    "plt.xlabel('Rating')\n",
    "plt.ylabel('Number of Rating')\n",
    "plt.show()"
   ]
  },
  {
   "cell_type": "markdown",
   "metadata": {},
   "source": [
    "- The dataset includes 11,537 unique bussinesses. \n",
    "- The dataset has rating from 45,981 unique users.\n",
    "- The user item interaction matrix is 45981 X 11537. This matrix has ~53e7 elements. we onlt have ~2.3e5 rating so lot's of data points are missing. \n",
    "- The rating is skewed toward 4 and 5 ratings. with 4 having the highest number of occurance. This might already indicates that people that doesn't like the resturant usually don't tend to rate the place. \n"
   ]
  },
  {
   "cell_type": "code",
   "execution_count": 12,
   "metadata": {},
   "outputs": [
    {
     "data": {
      "text/plain": [
       "business_id\n",
       "hW0Ne_HTHEAgGF1rAdmR-g    844\n",
       "VVeogjZya58oiTxK7qUjAQ    794\n",
       "JokKtdXU7zXHcr20Lrk29A    731\n",
       "ntN85eu27C04nwyPa8IHtw    679\n",
       "EWMwV5V9BxNs_U6nNVMeqw    645\n",
       "                         ... \n",
       "-NbEHP2GHFNb5PnmJnd4qQ      3\n",
       "QICgwHWhXIbihfcMKtws8g      3\n",
       "sAwxt4I4gTiL-08nyarJbg      3\n",
       "huzUWI5YqkJEEIudo0YiDg      3\n",
       "SeCVec3f91bEdosAILE4JA      3\n",
       "Name: count, Length: 11537, dtype: int64"
      ]
     },
     "execution_count": 12,
     "metadata": {},
     "output_type": "execute_result"
    }
   ],
   "source": [
    "yelp_review['business_id'].value_counts()"
   ]
  },
  {
   "cell_type": "markdown",
   "metadata": {},
   "source": [
    "- The highest number of rating for one bussiness is 844. "
   ]
  },
  {
   "cell_type": "code",
   "execution_count": 13,
   "metadata": {},
   "outputs": [
    {
     "data": {
      "text/plain": [
       "user_id\n",
       "fczQCSmaWF78toLEmb0Zsw    588\n",
       "90a6z--_CUrl84aCzZyPsg    506\n",
       "0CMz8YaO3f8xu4KqQgKb9Q    473\n",
       "4ozupHULqGyO42s3zNUzOQ    442\n",
       "joIzw_aUiNvBTuGoytrH7g    392\n",
       "                         ... \n",
       "Oh9OOyDSGf4eNWGiNazh8g      1\n",
       "Np9IEqnLmhRB2T5jumPTGw      1\n",
       "g0-ejhzvo0ELNp04cUKWDg      1\n",
       "M0lyA1jF0zrXZr5TXlioTQ      1\n",
       "dDNfSFT0VApxPmURclX6_g      1\n",
       "Name: count, Length: 45981, dtype: int64"
      ]
     },
     "execution_count": 13,
     "metadata": {},
     "output_type": "execute_result"
    }
   ],
   "source": [
    "yelp_review['user_id'].value_counts()"
   ]
  },
  {
   "cell_type": "markdown",
   "metadata": {},
   "source": [
    "- The most active user left 588 reviewes in the system. "
   ]
  },
  {
   "cell_type": "code",
   "execution_count": 14,
   "metadata": {},
   "outputs": [
    {
     "data": {
      "text/plain": [
       "229907"
      ]
     },
     "execution_count": 14,
     "metadata": {},
     "output_type": "execute_result"
    }
   ],
   "source": [
    "yelp_review.groupby(['user_id', 'business_id']).count()['stars'].sum()"
   ]
  },
  {
   "cell_type": "markdown",
   "metadata": {},
   "source": [
    "- The sum is equal to the number of data points meaning that we don't have rating for the same user and same resutrnat more than once. "
   ]
  },
  {
   "cell_type": "code",
   "execution_count": 15,
   "metadata": {},
   "outputs": [
    {
     "data": {
      "text/plain": [
       "stars\n",
       "4    292\n",
       "3    280\n",
       "2    140\n",
       "5     78\n",
       "1     54\n",
       "Name: count, dtype: int64"
      ]
     },
     "execution_count": 15,
     "metadata": {},
     "output_type": "execute_result"
    }
   ],
   "source": [
    "yelp_review[yelp_review['business_id'] == 'hW0Ne_HTHEAgGF1rAdmR-g']['stars'].value_counts()"
   ]
  },
  {
   "cell_type": "code",
   "execution_count": 16,
   "metadata": {},
   "outputs": [
    {
     "data": {
      "image/png": "[encoded data removed]",
      "text/plain": [
       "<Figure size 1000x500 with 1 Axes>"
      ]
     },
     "metadata": {},
     "output_type": "display_data"
    }
   ],
   "source": [
    "plt.figure(figsize=(10, 5))\n",
    "yelp_review[yelp_review['business_id'] == 'hW0Ne_HTHEAgGF1rAdmR-g']['stars'].value_counts().plot(kind='bar')\n",
    "plt.xlabel('Rating')\n",
    "plt.ylabel('Number of Rating')\n",
    "plt.show()"
   ]
  },
  {
   "cell_type": "markdown",
   "metadata": {},
   "source": [
    "- This is information for the resturant with highest number of rating. Most of the rating are 4 and 3 starts. \n",
    "This resturant overall liked by majority of the users. "
   ]
  },
  {
   "cell_type": "markdown",
   "metadata": {},
   "source": [
    "## **Data Preprose**"
   ]
  },
  {
   "cell_type": "markdown",
   "metadata": {},
   "source": [
    "Due to hardware limitation I need to reduce size of. To do that we only consider users that have more than 100 rating in their profile."
   ]
  },
  {
   "cell_type": "code",
   "execution_count": 17,
   "metadata": {},
   "outputs": [
    {
     "name": "stdout",
     "output_type": "stream",
     "text": [
      "<class 'pandas.core.frame.DataFrame'>\n",
      "Index: 35769 entries, 0 to 229905\n",
      "Data columns (total 3 columns):\n",
      " #   Column       Non-Null Count  Dtype \n",
      "---  ------       --------------  ----- \n",
      " 0   business_id  35769 non-null  object\n",
      " 1   stars        35769 non-null  int64 \n",
      " 2   user_id      35769 non-null  object\n",
      "dtypes: int64(1), object(2)\n",
      "memory usage: 1.1+ MB\n"
     ]
    }
   ],
   "source": [
    "df = yelp_review[yelp_review['user_id'].map(yelp_review['user_id'].value_counts()) >= 100]\n",
    "df.info()"
   ]
  },
  {
   "cell_type": "markdown",
   "metadata": {},
   "source": [
    "Through this process we decrease the size of dataset to 35,769 data points. "
   ]
  },
  {
   "cell_type": "markdown",
   "metadata": {},
   "source": [
    "## **Building Models**"
   ]
  },
  {
   "cell_type": "markdown",
   "metadata": {},
   "source": [
    "### **Model 1: Ranked-Based Recom. Sys.**"
   ]
  },
  {
   "cell_type": "code",
   "execution_count": 18,
   "metadata": {},
   "outputs": [
    {
     "data": {
      "text/html": [
       "<div>\n",
       "<style scoped>\n",
       "    .dataframe tbody tr th:only-of-type {\n",
       "        vertical-align: middle;\n",
       "    }\n",
       "\n",
       "    .dataframe tbody tr th {\n",
       "        vertical-align: top;\n",
       "    }\n",
       "\n",
       "    .dataframe thead th {\n",
       "        text-align: right;\n",
       "    }\n",
       "</style>\n",
       "<table border=\"1\" class=\"dataframe\">\n",
       "  <thead>\n",
       "    <tr style=\"text-align: right;\">\n",
       "      <th></th>\n",
       "      <th>avg_rating</th>\n",
       "      <th>rating_freq</th>\n",
       "    </tr>\n",
       "    <tr>\n",
       "      <th>business_id</th>\n",
       "      <th></th>\n",
       "      <th></th>\n",
       "    </tr>\n",
       "  </thead>\n",
       "  <tbody>\n",
       "    <tr>\n",
       "      <th>--5jkZ3-nUPZxUvtcbr8Uw</th>\n",
       "      <td>4.545455</td>\n",
       "      <td>11</td>\n",
       "    </tr>\n",
       "    <tr>\n",
       "      <th>--BlvDO_RG2yElKu9XA1_g</th>\n",
       "      <td>4.162162</td>\n",
       "      <td>37</td>\n",
       "    </tr>\n",
       "    <tr>\n",
       "      <th>-0D_CYhlD2ILkmLR0pBmnA</th>\n",
       "      <td>4.000000</td>\n",
       "      <td>5</td>\n",
       "    </tr>\n",
       "    <tr>\n",
       "      <th>-0QBrNvhrPQCaeo7mTo0zQ</th>\n",
       "      <td>4.333333</td>\n",
       "      <td>3</td>\n",
       "    </tr>\n",
       "    <tr>\n",
       "      <th>-0bUDim5OGuv8R0Qqq6J4A</th>\n",
       "      <td>2.333333</td>\n",
       "      <td>6</td>\n",
       "    </tr>\n",
       "  </tbody>\n",
       "</table>\n",
       "</div>"
      ],
      "text/plain": [
       "                        avg_rating  rating_freq\n",
       "business_id                                    \n",
       "--5jkZ3-nUPZxUvtcbr8Uw    4.545455           11\n",
       "--BlvDO_RG2yElKu9XA1_g    4.162162           37\n",
       "-0D_CYhlD2ILkmLR0pBmnA    4.000000            5\n",
       "-0QBrNvhrPQCaeo7mTo0zQ    4.333333            3\n",
       "-0bUDim5OGuv8R0Qqq6J4A    2.333333            6"
      ]
     },
     "execution_count": 18,
     "metadata": {},
     "output_type": "execute_result"
    }
   ],
   "source": [
    "avg_rating = yelp_review.groupby('business_id')['stars'].mean()\n",
    "count_rating = yelp_review.groupby('business_id')['stars'].count()\n",
    "\n",
    "rating = pd.DataFrame({'avg_rating': avg_rating, 'rating_freq': count_rating})\n",
    "rating.head()"
   ]
  },
  {
   "cell_type": "code",
   "execution_count": 19,
   "metadata": {},
   "outputs": [],
   "source": [
    "def recom_model(data, n, min_freq):\n",
    "    recommend = data[data['rating_freq'] > min_freq].sort_values(by='avg_rating', ascending = False)\n",
    "    return recommend.index[:n]"
   ]
  },
  {
   "cell_type": "code",
   "execution_count": 20,
   "metadata": {},
   "outputs": [
    {
     "data": {
      "text/plain": [
       "Index(['8HQ8clouLGgee99KkR4vXA', 'CKjcewWeWvdJ7TzOQbZOIw',\n",
       "       '97Z7j4vH0kfzL10AONi4uA', '_TekkyyFeX_8MBepPIxuTg',\n",
       "       'L-uPZxooP_ziXCtRrWi8Pw'],\n",
       "      dtype='object', name='business_id')"
      ]
     },
     "execution_count": 20,
     "metadata": {},
     "output_type": "execute_result"
    }
   ],
   "source": [
    "recom_model(rating, 5, 50 )"
   ]
  },
  {
   "cell_type": "markdown",
   "metadata": {},
   "source": [
    "- These are the songs that are popular. "
   ]
  },
  {
   "cell_type": "markdown",
   "metadata": {},
   "source": [
    "### **Similarity Based Collaborative Filtering Recom. Sys.**"
   ]
  },
  {
   "cell_type": "markdown",
   "metadata": {},
   "source": [
    "`Relevant Business`: Businesses that rated higher than the threshold is relevant. If the actual rating of business is below threshold then it is non-relevant. \n",
    "<br>\n",
    "<br>\n",
    "`Recommended Business`: Businesses that predicted rating higher than the threshold is recommended business. If the predicated rating is below threshold then the business will not be recommended to the user.\n",
    "<br>\n",
    "<br>\n",
    "`False Negative`: It is the frequency relevent businesses that are not recommended to the users. This is **opportunity loss** for the service provider. \n",
    "<br>\n",
    "<br>\n",
    "`False Positive`: It is the frequency of recommended businesses that are actually not relevent. This is **recouce loss** for the service provider. \n",
    "<br>\n",
    "<br>\n",
    "`Recall`: It is the fraction of actually relevant businesses that recommended to the user.\n",
    "<br>\n",
    "<br>\n",
    "`Precision`: It is the fraction of recommended businesses that are relevent actually. \n",
    "<br>\n",
    "<br>\n",
    "`Recall@k`: It is the fraction of relevant businesses that are recommended to the user in **top k** predications.\n",
    "<br>\n",
    "<br>\n",
    "`Precision@k`: It is the fraction of recommended businesses that are relevent in **top k** predications.\n",
    "<br>\n",
    "<br>\n",
    "`F1-socre@k`: It is the harmonic mean of precision@k and recall@k.\n"
   ]
  },
  {
   "cell_type": "code",
   "execution_count": 21,
   "metadata": {},
   "outputs": [],
   "source": [
    "def performance_at_k(model, data,  k, threshold): \n",
    "    user_predict_true = defaultdict(list)\n",
    "    predictions = model.test(data)\n",
    "    #Prediction format: Prediction(uid=26071, iid=7103, r_ui=1.0, est=1.625, details={'actual_k': 40, 'was_impossible': False})\n",
    "\n",
    "    for uid, _,true_r, pred, _ in predictions: \n",
    "        user_predict_true[uid].append((pred,true_r))\n",
    "    \n",
    "    precisions = dict()\n",
    "    recalls = dict()\n",
    "    for uid, user_ratings in user_predict_true.items():\n",
    "        user_ratings.sort(key=lambda x: x[0], reverse=True)\n",
    "        num_relevent = sum((true_r >= threshold) for (_, true_r) in user_ratings)\n",
    "        num_recom_k = sum((pred >= threshold) for (pred, _) in user_ratings[:k])\n",
    "\n",
    "        num_relevent_recom_k = sum(((true_r >= threshold) and (pred >= threshold))\n",
    "                              for (pred, true_r) in user_ratings[:k])\n",
    "\n",
    "        precisions[uid] = num_relevent_recom_k / num_recom_k if num_recom_k != 0 else 0\n",
    "        recalls[uid] = num_relevent_recom_k / num_relevent if num_relevent != 0 else 0\n",
    "    \n",
    "    precision = round((sum(prec for prec in precisions.values()) / len(precisions)),3)\n",
    "    recall = round((sum(rec for rec in recalls.values()) / len(recalls)),3)\n",
    "    \n",
    "    accuracy.rmse(predictions)\n",
    "    print('Precision: ', precision) \n",
    "    print('Recall: ', recall) \n",
    "    print('F_1 score: ', round((2*precision*recall)/(precision+recall),3)) "
   ]
  },
  {
   "cell_type": "code",
   "execution_count": 22,
   "metadata": {},
   "outputs": [],
   "source": [
    "reader = Reader(rating_scale=(0,5))\n",
    "user_buss_matrix = Dataset.load_from_df(df[['user_id', 'business_id', 'stars']], reader)"
   ]
  },
  {
   "cell_type": "code",
   "execution_count": 23,
   "metadata": {},
   "outputs": [],
   "source": [
    "train_set, test_set = train_test_split(user_buss_matrix, test_size=0.2, random_state=42)"
   ]
  },
  {
   "cell_type": "markdown",
   "metadata": {},
   "source": [
    "#### **Model 2: User-User Similarity Based Recom. Sys.**"
   ]
  },
  {
   "cell_type": "code",
   "execution_count": 24,
   "metadata": {},
   "outputs": [
    {
     "data": {
      "text/plain": [
       "<surprise.prediction_algorithms.knns.KNNBasic at 0x1b978151290>"
      ]
     },
     "execution_count": 24,
     "metadata": {},
     "output_type": "execute_result"
    }
   ],
   "source": [
    "sim_options = {'name': 'cosine',\n",
    "                'user_based': True}\n",
    "\n",
    "user_user_sim = KNNBasic(sim_options = sim_options, verbose= False,\n",
    "                        random_state = 1)\n",
    "\n",
    "user_user_sim.fit(train_set)\n",
    "        "
   ]
  },
  {
   "cell_type": "code",
   "execution_count": 25,
   "metadata": {},
   "outputs": [
    {
     "name": "stdout",
     "output_type": "stream",
     "text": [
      "RMSE: 1.0409\n",
      "Precision:  0.773\n",
      "Recall:  0.417\n",
      "F_1 score:  0.542\n"
     ]
    }
   ],
   "source": [
    "performance_at_k(user_user_sim, test_set, 10, 3.5)"
   ]
  },
  {
   "cell_type": "markdown",
   "metadata": {},
   "source": [
    "- In the yelp profile the first page of recommendation is very important and should be relevent. So we are going to look at the first 10 items and try to get recall and precision for those. \n",
    "- The precision is 77.3% which means out of the 10 recommended resturants 77.3% of them are relevent. \n",
    "- The recall is ~42% which indicates that out of all relevant resturants only 42% were recommended. \n",
    "- Let's do hyperparameter tuning to improve these values. "
   ]
  },
  {
   "cell_type": "code",
   "execution_count": 26,
   "metadata": {},
   "outputs": [
    {
     "data": {
      "text/html": [
       "<div>\n",
       "<style scoped>\n",
       "    .dataframe tbody tr th:only-of-type {\n",
       "        vertical-align: middle;\n",
       "    }\n",
       "\n",
       "    .dataframe tbody tr th {\n",
       "        vertical-align: top;\n",
       "    }\n",
       "\n",
       "    .dataframe thead th {\n",
       "        text-align: right;\n",
       "    }\n",
       "</style>\n",
       "<table border=\"1\" class=\"dataframe\">\n",
       "  <thead>\n",
       "    <tr style=\"text-align: right;\">\n",
       "      <th></th>\n",
       "      <th>business_id</th>\n",
       "      <th>stars</th>\n",
       "      <th>user_id</th>\n",
       "    </tr>\n",
       "  </thead>\n",
       "  <tbody>\n",
       "    <tr>\n",
       "      <th>0</th>\n",
       "      <td>9yKzy9PApeiPPOUJEtnvkg</td>\n",
       "      <td>5</td>\n",
       "      <td>rLtl8ZkDX5vH5nAx9C3q5Q</td>\n",
       "    </tr>\n",
       "  </tbody>\n",
       "</table>\n",
       "</div>"
      ],
      "text/plain": [
       "              business_id  stars                 user_id\n",
       "0  9yKzy9PApeiPPOUJEtnvkg      5  rLtl8ZkDX5vH5nAx9C3q5Q"
      ]
     },
     "execution_count": 26,
     "metadata": {},
     "output_type": "execute_result"
    }
   ],
   "source": [
    "yelp_review[(yelp_review['user_id'] == 'rLtl8ZkDX5vH5nAx9C3q5Q') & (yelp_review['business_id']=='9yKzy9PApeiPPOUJEtnvkg')]"
   ]
  },
  {
   "cell_type": "code",
   "execution_count": 27,
   "metadata": {},
   "outputs": [
    {
     "data": {
      "text/plain": [
       "Prediction(uid='rLtl8ZkDX5vH5nAx9C3q5Q', iid='9yKzy9PApeiPPOUJEtnvkg', r_ui=5, est=3.7675091038953616, details={'actual_k': 16, 'was_impossible': False})"
      ]
     },
     "execution_count": 27,
     "metadata": {},
     "output_type": "execute_result"
    }
   ],
   "source": [
    "# let's predict value for specific user and it. \n",
    "user_user_sim.predict('rLtl8ZkDX5vH5nAx9C3q5Q', '9yKzy9PApeiPPOUJEtnvkg', r_ui=5)"
   ]
  },
  {
   "cell_type": "markdown",
   "metadata": {},
   "source": [
    "- For user: rLtl8ZkDX5vH5nAx9C3q5Q' and bussiness: '9yKzy9PApeiPPOUJEtnvkg' the actual rating is 5 and this model predict 3.76. "
   ]
  },
  {
   "cell_type": "code",
   "execution_count": 28,
   "metadata": {},
   "outputs": [
    {
     "data": {
      "text/html": [
       "<div>\n",
       "<style scoped>\n",
       "    .dataframe tbody tr th:only-of-type {\n",
       "        vertical-align: middle;\n",
       "    }\n",
       "\n",
       "    .dataframe tbody tr th {\n",
       "        vertical-align: top;\n",
       "    }\n",
       "\n",
       "    .dataframe thead th {\n",
       "        text-align: right;\n",
       "    }\n",
       "</style>\n",
       "<table border=\"1\" class=\"dataframe\">\n",
       "  <thead>\n",
       "    <tr style=\"text-align: right;\">\n",
       "      <th></th>\n",
       "      <th>business_id</th>\n",
       "      <th>stars</th>\n",
       "      <th>user_id</th>\n",
       "    </tr>\n",
       "  </thead>\n",
       "  <tbody>\n",
       "  </tbody>\n",
       "</table>\n",
       "</div>"
      ],
      "text/plain": [
       "Empty DataFrame\n",
       "Columns: [business_id, stars, user_id]\n",
       "Index: []"
      ]
     },
     "execution_count": 28,
     "metadata": {},
     "output_type": "execute_result"
    }
   ],
   "source": [
    "yelp_review[(yelp_review['user_id'] == 'rLtl8ZkDX5vH5nAx9C3q5Q') & (yelp_review['business_id']=='zp713qNhx8d9KCJJnrw1xA')]"
   ]
  },
  {
   "cell_type": "code",
   "execution_count": 29,
   "metadata": {},
   "outputs": [
    {
     "data": {
      "text/plain": [
       "Prediction(uid='rLtl8ZkDX5vH5nAx9C3q5Q', iid='zp713qNhx8d9KCJJnrw1xA', r_ui=None, est=3.873369257511826, details={'actual_k': 28, 'was_impossible': False})"
      ]
     },
     "execution_count": 29,
     "metadata": {},
     "output_type": "execute_result"
    }
   ],
   "source": [
    "# let's predict value for specific user and it. \n",
    "user_user_sim.predict('rLtl8ZkDX5vH5nAx9C3q5Q', 'zp713qNhx8d9KCJJnrw1xA')"
   ]
  },
  {
   "cell_type": "markdown",
   "metadata": {},
   "source": [
    "- For user: rLtl8ZkDX5vH5nAx9C3q5Q' and bussiness: 'zp713qNhx8d9KCJJnrw1xA' which no rating is available the model predict 3.87. "
   ]
  },
  {
   "cell_type": "markdown",
   "metadata": {},
   "source": [
    "#### **Model 3: User-User Similarity Based Recom. Sys. - Hyperparameter Tuning**"
   ]
  },
  {
   "cell_type": "markdown",
   "metadata": {},
   "source": [
    "Hyperparameters for KNNBasic algorithm are: \n",
    "- k --> Maximum number of neighbors to take into account for aggregation. Default k = 40\n",
    "- min_k --> Minimum number of neighbors to take into account for aggregation. Default min_k = 1\n",
    "- sim_options: \n",
    "    - Similarity measures: \n",
    "        `cosine` - Compute the cosine similarity between all pairs of users.\n",
    "\n",
    "        `msd` - Compute the Mean Squared Difference similarity between all pairs of users.\n",
    "\n",
    "        `pearson` - Compute the Pearson correlation coefficient between all pairs of users.\n",
    "\n",
    "        `pearson_baseline` - Compute the (shrunk) Pearson correlation coefficient between all pairs of users using baselines for centering instead of means."
   ]
  },
  {
   "cell_type": "code",
   "execution_count": 30,
   "metadata": {},
   "outputs": [
    {
     "name": "stdout",
     "output_type": "stream",
     "text": [
      "1.0146932135173186\n",
      "{'k': 40, 'min_k': 6, 'sim_options': {'name': 'msd', 'user_based': True}}\n"
     ]
    }
   ],
   "source": [
    "param_grid_uu = {'k': [20, 30, 40], 'min_k': [3, 6, 9],\n",
    "              'sim_options': {'name': ['msd', 'cosine'],\n",
    "                              'user_based': [True]}\n",
    "                }\n",
    "\n",
    "user_user_sim_tune = GridSearchCV(KNNBasic, param_grid_uu,\n",
    "                        measures=['rmse'],\n",
    "                        cv = 3, n_jobs=-1)\n",
    "\n",
    "user_user_sim_tune.fit(user_buss_matrix)\n",
    "\n",
    "print(user_user_sim_tune.best_score['rmse'])\n",
    "print(user_user_sim_tune.best_params['rmse'])"
   ]
  },
  {
   "cell_type": "code",
   "execution_count": 31,
   "metadata": {},
   "outputs": [
    {
     "data": {
      "text/plain": [
       "<surprise.prediction_algorithms.knns.KNNBasic at 0x1b975cdc8d0>"
      ]
     },
     "execution_count": 31,
     "metadata": {},
     "output_type": "execute_result"
    }
   ],
   "source": [
    "sim_para = {'name':'msd', 'user_based':True}\n",
    "\n",
    "user_user_sim_optimized = KNNBasic(sim_options =sim_para , k= 40, min_k= 6, random_state=1, verbose=False)\n",
    "user_user_sim_optimized.fit(train_set)"
   ]
  },
  {
   "cell_type": "code",
   "execution_count": 32,
   "metadata": {},
   "outputs": [
    {
     "name": "stdout",
     "output_type": "stream",
     "text": [
      "RMSE: 1.0043\n",
      "Precision:  0.758\n",
      "Recall:  0.411\n",
      "F_1 score:  0.533\n"
     ]
    }
   ],
   "source": [
    "performance_at_k(user_user_sim_optimized, test_set, 10, 3.5)"
   ]
  },
  {
   "cell_type": "markdown",
   "metadata": {},
   "source": [
    "- The tune model perofrmance is worst than the baseline! "
   ]
  },
  {
   "cell_type": "code",
   "execution_count": 33,
   "metadata": {},
   "outputs": [
    {
     "data": {
      "text/plain": [
       "Prediction(uid='rLtl8ZkDX5vH5nAx9C3q5Q', iid='9yKzy9PApeiPPOUJEtnvkg', r_ui=5, est=3.9046318384360976, details={'actual_k': 16, 'was_impossible': False})"
      ]
     },
     "execution_count": 33,
     "metadata": {},
     "output_type": "execute_result"
    }
   ],
   "source": [
    "user_user_sim_optimized.predict('rLtl8ZkDX5vH5nAx9C3q5Q', '9yKzy9PApeiPPOUJEtnvkg', r_ui=5)"
   ]
  },
  {
   "cell_type": "markdown",
   "metadata": {},
   "source": [
    "- For user: rLtl8ZkDX5vH5nAx9C3q5Q' and bussiness: '9yKzy9PApeiPPOUJEtnvkg' the actual rating is 5 and this model predict 3.90. "
   ]
  },
  {
   "cell_type": "code",
   "execution_count": 34,
   "metadata": {},
   "outputs": [
    {
     "data": {
      "text/plain": [
       "Prediction(uid='rLtl8ZkDX5vH5nAx9C3q5Q', iid='zp713qNhx8d9KCJJnrw1xA', r_ui=None, est=3.9506906733620437, details={'actual_k': 28, 'was_impossible': False})"
      ]
     },
     "execution_count": 34,
     "metadata": {},
     "output_type": "execute_result"
    }
   ],
   "source": [
    "# let's predict value for specific user and it. \n",
    "user_user_sim_optimized.predict('rLtl8ZkDX5vH5nAx9C3q5Q', 'zp713qNhx8d9KCJJnrw1xA')"
   ]
  },
  {
   "cell_type": "markdown",
   "metadata": {},
   "source": [
    "- For user: rLtl8ZkDX5vH5nAx9C3q5Q' and bussiness: 'zp713qNhx8d9KCJJnrw1xA' which no rating is available the model predict 3.95. "
   ]
  },
  {
   "cell_type": "markdown",
   "metadata": {},
   "source": [
    "#### **Implement the Recom. Sys.**"
   ]
  },
  {
   "cell_type": "code",
   "execution_count": 35,
   "metadata": {},
   "outputs": [],
   "source": [
    "def recom_model2(model, data, user_id, top_n_buss):\n",
    "    recom = []\n",
    "    user_item_inter_matrix = data.pivot_table(index='user_id', columns='business_id', values='stars')\n",
    "    non_inter_bussiness= user_item_inter_matrix.loc[user_id][user_item_inter_matrix.loc[user_id].isnull()].index.tolist()\n",
    "    for item_id in non_inter_bussiness:\n",
    "        est_buss_score = model.predict(user_id, item_id).est\n",
    "        recom.append((item_id, est_buss_score))\n",
    "    recom.sort(key=lambda x:x[1], reverse=True)\n",
    "\n",
    "    return recom[:top_n_buss]"
   ]
  },
  {
   "cell_type": "code",
   "execution_count": 36,
   "metadata": {},
   "outputs": [
    {
     "data": {
      "text/html": [
       "<div>\n",
       "<style scoped>\n",
       "    .dataframe tbody tr th:only-of-type {\n",
       "        vertical-align: middle;\n",
       "    }\n",
       "\n",
       "    .dataframe tbody tr th {\n",
       "        vertical-align: top;\n",
       "    }\n",
       "\n",
       "    .dataframe thead th {\n",
       "        text-align: right;\n",
       "    }\n",
       "</style>\n",
       "<table border=\"1\" class=\"dataframe\">\n",
       "  <thead>\n",
       "    <tr style=\"text-align: right;\">\n",
       "      <th></th>\n",
       "      <th>business_id</th>\n",
       "      <th>predicated_rating</th>\n",
       "    </tr>\n",
       "  </thead>\n",
       "  <tbody>\n",
       "    <tr>\n",
       "      <th>0</th>\n",
       "      <td>--5jkZ3-nUPZxUvtcbr8Uw</td>\n",
       "      <td>5</td>\n",
       "    </tr>\n",
       "    <tr>\n",
       "      <th>1</th>\n",
       "      <td>-7XuLxfYwZ9x72mEKXdv0A</td>\n",
       "      <td>5</td>\n",
       "    </tr>\n",
       "    <tr>\n",
       "      <th>2</th>\n",
       "      <td>-A82xEVAjOYZtDdRQw1FQw</td>\n",
       "      <td>5</td>\n",
       "    </tr>\n",
       "    <tr>\n",
       "      <th>3</th>\n",
       "      <td>-CZ78c-H3tTxpP-uQ09CWw</td>\n",
       "      <td>5</td>\n",
       "    </tr>\n",
       "    <tr>\n",
       "      <th>4</th>\n",
       "      <td>-J0jhpG0rv4saq9OMh8gXw</td>\n",
       "      <td>5</td>\n",
       "    </tr>\n",
       "  </tbody>\n",
       "</table>\n",
       "</div>"
      ],
      "text/plain": [
       "              business_id  predicated_rating\n",
       "0  --5jkZ3-nUPZxUvtcbr8Uw                  5\n",
       "1  -7XuLxfYwZ9x72mEKXdv0A                  5\n",
       "2  -A82xEVAjOYZtDdRQw1FQw                  5\n",
       "3  -CZ78c-H3tTxpP-uQ09CWw                  5\n",
       "4  -J0jhpG0rv4saq9OMh8gXw                  5"
      ]
     },
     "execution_count": 36,
     "metadata": {},
     "output_type": "execute_result"
    }
   ],
   "source": [
    "proposed_buss = recom_model2(user_user_sim, df, 'rLtl8ZkDX5vH5nAx9C3q5Q', 5)\n",
    "pd.DataFrame(proposed_buss, columns=['business_id', 'predicated_rating'])"
   ]
  },
  {
   "cell_type": "markdown",
   "metadata": {},
   "source": [
    "**Correcting the recommendation based on ranking**"
   ]
  },
  {
   "cell_type": "markdown",
   "metadata": {},
   "source": [
    "Let's combine the user user collberative filtering with popular resutants ranking system in the model. "
   ]
  },
  {
   "cell_type": "code",
   "execution_count": 37,
   "metadata": {},
   "outputs": [],
   "source": [
    "def ranking_user_buss(proposed_buss, ranking_buss):\n",
    "    buss_rank = ranking_buss.loc[[items[0] for items in proposed_buss]].sort_values('rating_freq', ascending=False)[['rating_freq']].reset_index()\n",
    "    buss_rank = buss_rank.merge(pd.DataFrame(proposed_buss, columns=['business_id', 'predicated_rating']), on='business_id', how='inner')\n",
    "    buss_rank['corrected_ranting'] = buss_rank['predicated_rating'] - 1 / np.sqrt(buss_rank['rating_freq'])\n",
    "    return buss_rank.sort_values('corrected_ranting', ascending=False)"
   ]
  },
  {
   "cell_type": "code",
   "execution_count": 38,
   "metadata": {},
   "outputs": [
    {
     "data": {
      "text/html": [
       "<div>\n",
       "<style scoped>\n",
       "    .dataframe tbody tr th:only-of-type {\n",
       "        vertical-align: middle;\n",
       "    }\n",
       "\n",
       "    .dataframe tbody tr th {\n",
       "        vertical-align: top;\n",
       "    }\n",
       "\n",
       "    .dataframe thead th {\n",
       "        text-align: right;\n",
       "    }\n",
       "</style>\n",
       "<table border=\"1\" class=\"dataframe\">\n",
       "  <thead>\n",
       "    <tr style=\"text-align: right;\">\n",
       "      <th></th>\n",
       "      <th>business_id</th>\n",
       "      <th>rating_freq</th>\n",
       "      <th>predicated_rating</th>\n",
       "      <th>corrected_ranting</th>\n",
       "    </tr>\n",
       "  </thead>\n",
       "  <tbody>\n",
       "    <tr>\n",
       "      <th>0</th>\n",
       "      <td>--5jkZ3-nUPZxUvtcbr8Uw</td>\n",
       "      <td>11</td>\n",
       "      <td>5</td>\n",
       "      <td>4.698489</td>\n",
       "    </tr>\n",
       "    <tr>\n",
       "      <th>1</th>\n",
       "      <td>-J0jhpG0rv4saq9OMh8gXw</td>\n",
       "      <td>6</td>\n",
       "      <td>5</td>\n",
       "      <td>4.591752</td>\n",
       "    </tr>\n",
       "    <tr>\n",
       "      <th>2</th>\n",
       "      <td>-7XuLxfYwZ9x72mEKXdv0A</td>\n",
       "      <td>5</td>\n",
       "      <td>5</td>\n",
       "      <td>4.552786</td>\n",
       "    </tr>\n",
       "    <tr>\n",
       "      <th>3</th>\n",
       "      <td>-A82xEVAjOYZtDdRQw1FQw</td>\n",
       "      <td>5</td>\n",
       "      <td>5</td>\n",
       "      <td>4.552786</td>\n",
       "    </tr>\n",
       "    <tr>\n",
       "      <th>4</th>\n",
       "      <td>-CZ78c-H3tTxpP-uQ09CWw</td>\n",
       "      <td>3</td>\n",
       "      <td>5</td>\n",
       "      <td>4.422650</td>\n",
       "    </tr>\n",
       "  </tbody>\n",
       "</table>\n",
       "</div>"
      ],
      "text/plain": [
       "              business_id  rating_freq  predicated_rating  corrected_ranting\n",
       "0  --5jkZ3-nUPZxUvtcbr8Uw           11                  5           4.698489\n",
       "1  -J0jhpG0rv4saq9OMh8gXw            6                  5           4.591752\n",
       "2  -7XuLxfYwZ9x72mEKXdv0A            5                  5           4.552786\n",
       "3  -A82xEVAjOYZtDdRQw1FQw            5                  5           4.552786\n",
       "4  -CZ78c-H3tTxpP-uQ09CWw            3                  5           4.422650"
      ]
     },
     "execution_count": 38,
     "metadata": {},
     "output_type": "execute_result"
    }
   ],
   "source": [
    "ranking_user_buss(proposed_buss, rating)"
   ]
  },
  {
   "cell_type": "markdown",
   "metadata": {},
   "source": [
    "#### **Model 4: Item-Item Similarity Based Recom. Sys.**"
   ]
  },
  {
   "cell_type": "code",
   "execution_count": 39,
   "metadata": {},
   "outputs": [
    {
     "data": {
      "text/plain": [
       "<surprise.prediction_algorithms.knns.KNNBasic at 0x1b9761db190>"
      ]
     },
     "execution_count": 39,
     "metadata": {},
     "output_type": "execute_result"
    }
   ],
   "source": [
    "sim_options = {'name': 'cosine',\n",
    "                'user_based': False}\n",
    "\n",
    "item_item_sim = KNNBasic(sim_options = sim_options, verbose= False,\n",
    "                        random_state = 1)\n",
    "\n",
    "item_item_sim.fit(train_set)"
   ]
  },
  {
   "cell_type": "code",
   "execution_count": 40,
   "metadata": {},
   "outputs": [
    {
     "name": "stdout",
     "output_type": "stream",
     "text": [
      "RMSE: 1.0218\n",
      "Precision:  0.663\n",
      "Recall:  0.344\n",
      "F_1 score:  0.453\n"
     ]
    }
   ],
   "source": [
    "performance_at_k(item_item_sim, test_set, 10, 3.5)"
   ]
  },
  {
   "cell_type": "markdown",
   "metadata": {},
   "source": [
    "- This is performing worst than the user user similarity based system. \n",
    "- The precision is 66.3% which means out of the 10 recommended resturants 66.3% of them are relevent. \n",
    "- The recall is ~34.4% which indicates that out of all relevant resturants only 34.4% were recommended. \n",
    "- Let's do hyperparameter tuning to improve these values. "
   ]
  },
  {
   "cell_type": "code",
   "execution_count": 41,
   "metadata": {},
   "outputs": [
    {
     "data": {
      "text/plain": [
       "Prediction(uid='rLtl8ZkDX5vH5nAx9C3q5Q', iid='9yKzy9PApeiPPOUJEtnvkg', r_ui=5, est=3.475, details={'actual_k': 40, 'was_impossible': False})"
      ]
     },
     "execution_count": 41,
     "metadata": {},
     "output_type": "execute_result"
    }
   ],
   "source": [
    "# let's predict value for specific user and it. \n",
    "item_item_sim.predict('rLtl8ZkDX5vH5nAx9C3q5Q', '9yKzy9PApeiPPOUJEtnvkg', r_ui=5)"
   ]
  },
  {
   "cell_type": "markdown",
   "metadata": {},
   "source": [
    "- For user: rLtl8ZkDX5vH5nAx9C3q5Q' and bussiness: '9yKzy9PApeiPPOUJEtnvkg' the actual rating is 5 and this model predict 3.47. "
   ]
  },
  {
   "cell_type": "code",
   "execution_count": 42,
   "metadata": {},
   "outputs": [
    {
     "data": {
      "text/plain": [
       "Prediction(uid='rLtl8ZkDX5vH5nAx9C3q5Q', iid='zp713qNhx8d9KCJJnrw1xA', r_ui=None, est=3.775, details={'actual_k': 40, 'was_impossible': False})"
      ]
     },
     "execution_count": 42,
     "metadata": {},
     "output_type": "execute_result"
    }
   ],
   "source": [
    "# let's predict value for specific user and it. \n",
    "item_item_sim.predict('rLtl8ZkDX5vH5nAx9C3q5Q', 'zp713qNhx8d9KCJJnrw1xA')"
   ]
  },
  {
   "cell_type": "markdown",
   "metadata": {},
   "source": [
    "- For user: rLtl8ZkDX5vH5nAx9C3q5Q' and bussiness: 'zp713qNhx8d9KCJJnrw1xA' which no rating is available the model predict 3.77. "
   ]
  },
  {
   "cell_type": "markdown",
   "metadata": {},
   "source": [
    "#### **Model 5: Item-Item Similarity Based Recom. Sys. - Hyperparameter Tuning**"
   ]
  },
  {
   "cell_type": "code",
   "execution_count": 43,
   "metadata": {},
   "outputs": [
    {
     "name": "stdout",
     "output_type": "stream",
     "text": [
      "1.0085537488128018\n",
      "{'k': 40, 'min_k': 9, 'sim_options': {'name': 'msd', 'user_based': False}}\n"
     ]
    }
   ],
   "source": [
    "param_grid_ii = {'k': [20, 30, 40], 'min_k': [3, 6, 9],\n",
    "              'sim_options': {'name': ['msd', 'cosine', 'pearson'],\n",
    "                              'user_based': [False]}\n",
    "                }\n",
    "\n",
    "item_item_sim_tune = GridSearchCV(KNNBasic, param_grid_ii,\n",
    "                        measures=['rmse'],\n",
    "                        cv = 3, n_jobs=-1)\n",
    "\n",
    "item_item_sim_tune.fit(user_buss_matrix)\n",
    "\n",
    "print(item_item_sim_tune.best_score['rmse'])\n",
    "print(item_item_sim_tune.best_params['rmse'])"
   ]
  },
  {
   "cell_type": "code",
   "execution_count": 44,
   "metadata": {},
   "outputs": [
    {
     "data": {
      "text/plain": [
       "<surprise.prediction_algorithms.knns.KNNBasic at 0x1b9731649d0>"
      ]
     },
     "execution_count": 44,
     "metadata": {},
     "output_type": "execute_result"
    }
   ],
   "source": [
    "sim_para = {'name':'msd', 'user_based':False}\n",
    "\n",
    "item_item_sim_optimized = KNNBasic(sim_options =sim_para , k= 40, min_k= 9, random_state=1, verbose=False)\n",
    "item_item_sim_optimized.fit(train_set)"
   ]
  },
  {
   "cell_type": "code",
   "execution_count": 45,
   "metadata": {},
   "outputs": [
    {
     "name": "stdout",
     "output_type": "stream",
     "text": [
      "RMSE: 0.9970\n",
      "Precision:  0.716\n",
      "Recall:  0.379\n",
      "F_1 score:  0.496\n"
     ]
    }
   ],
   "source": [
    "performance_at_k(item_item_sim_optimized, test_set, 10, 3.5)"
   ]
  },
  {
   "cell_type": "markdown",
   "metadata": {},
   "source": [
    "- Still the perofrmance is worst than user-user similarity based recommendation system but better than the baseline."
   ]
  },
  {
   "cell_type": "code",
   "execution_count": 48,
   "metadata": {},
   "outputs": [
    {
     "data": {
      "text/plain": [
       "Prediction(uid='rLtl8ZkDX5vH5nAx9C3q5Q', iid='9yKzy9PApeiPPOUJEtnvkg', r_ui=5, est=4.7592137592137576, details={'actual_k': 40, 'was_impossible': False})"
      ]
     },
     "execution_count": 48,
     "metadata": {},
     "output_type": "execute_result"
    }
   ],
   "source": [
    "item_item_sim_optimized.predict('rLtl8ZkDX5vH5nAx9C3q5Q', '9yKzy9PApeiPPOUJEtnvkg', r_ui=5)"
   ]
  },
  {
   "cell_type": "markdown",
   "metadata": {},
   "source": [
    "- For user: rLtl8ZkDX5vH5nAx9C3q5Q' and bussiness: '9yKzy9PApeiPPOUJEtnvkg' the actual rating is 5 and this model predict 4.75. "
   ]
  },
  {
   "cell_type": "code",
   "execution_count": 49,
   "metadata": {},
   "outputs": [
    {
     "data": {
      "text/plain": [
       "Prediction(uid='rLtl8ZkDX5vH5nAx9C3q5Q', iid='zp713qNhx8d9KCJJnrw1xA', r_ui=None, est=3.7022994305485457, details={'actual_k': 40, 'was_impossible': False})"
      ]
     },
     "execution_count": 49,
     "metadata": {},
     "output_type": "execute_result"
    }
   ],
   "source": [
    "item_item_sim_optimized.predict('rLtl8ZkDX5vH5nAx9C3q5Q', 'zp713qNhx8d9KCJJnrw1xA')"
   ]
  },
  {
   "cell_type": "markdown",
   "metadata": {},
   "source": [
    "- For user: rLtl8ZkDX5vH5nAx9C3q5Q' and bussiness: 'zp713qNhx8d9KCJJnrw1xA' which no rating is available the model predict 3.70. "
   ]
  },
  {
   "cell_type": "markdown",
   "metadata": {},
   "source": [
    "#### **Implement the Recom. Sys.**"
   ]
  },
  {
   "cell_type": "code",
   "execution_count": 50,
   "metadata": {},
   "outputs": [
    {
     "data": {
      "text/html": [
       "<div>\n",
       "<style scoped>\n",
       "    .dataframe tbody tr th:only-of-type {\n",
       "        vertical-align: middle;\n",
       "    }\n",
       "\n",
       "    .dataframe tbody tr th {\n",
       "        vertical-align: top;\n",
       "    }\n",
       "\n",
       "    .dataframe thead th {\n",
       "        text-align: right;\n",
       "    }\n",
       "</style>\n",
       "<table border=\"1\" class=\"dataframe\">\n",
       "  <thead>\n",
       "    <tr style=\"text-align: right;\">\n",
       "      <th></th>\n",
       "      <th>business_id</th>\n",
       "      <th>predicated_rating</th>\n",
       "    </tr>\n",
       "  </thead>\n",
       "  <tbody>\n",
       "    <tr>\n",
       "      <th>0</th>\n",
       "      <td>5Q49MxuWJgXS649i7i2Iow</td>\n",
       "      <td>4.416667</td>\n",
       "    </tr>\n",
       "    <tr>\n",
       "      <th>1</th>\n",
       "      <td>SmY_Xw31b2xyzsKbimQiHQ</td>\n",
       "      <td>4.346154</td>\n",
       "    </tr>\n",
       "    <tr>\n",
       "      <th>2</th>\n",
       "      <td>N6ff0yyo9Cv_7XPz-YDoow</td>\n",
       "      <td>4.308696</td>\n",
       "    </tr>\n",
       "    <tr>\n",
       "      <th>3</th>\n",
       "      <td>UmFnmIoLCRe1ywY0bzpRrQ</td>\n",
       "      <td>4.307692</td>\n",
       "    </tr>\n",
       "    <tr>\n",
       "      <th>4</th>\n",
       "      <td>p204PQg45gECcYwxCAK1wA</td>\n",
       "      <td>4.307692</td>\n",
       "    </tr>\n",
       "  </tbody>\n",
       "</table>\n",
       "</div>"
      ],
      "text/plain": [
       "              business_id  predicated_rating\n",
       "0  5Q49MxuWJgXS649i7i2Iow           4.416667\n",
       "1  SmY_Xw31b2xyzsKbimQiHQ           4.346154\n",
       "2  N6ff0yyo9Cv_7XPz-YDoow           4.308696\n",
       "3  UmFnmIoLCRe1ywY0bzpRrQ           4.307692\n",
       "4  p204PQg45gECcYwxCAK1wA           4.307692"
      ]
     },
     "execution_count": 50,
     "metadata": {},
     "output_type": "execute_result"
    }
   ],
   "source": [
    "proposed_buss = recom_model2(item_item_sim_optimized, df, 'rLtl8ZkDX5vH5nAx9C3q5Q', 5)\n",
    "pd.DataFrame(proposed_buss, columns=['business_id', 'predicated_rating'])"
   ]
  },
  {
   "cell_type": "code",
   "execution_count": 51,
   "metadata": {},
   "outputs": [
    {
     "data": {
      "text/html": [
       "<div>\n",
       "<style scoped>\n",
       "    .dataframe tbody tr th:only-of-type {\n",
       "        vertical-align: middle;\n",
       "    }\n",
       "\n",
       "    .dataframe tbody tr th {\n",
       "        vertical-align: top;\n",
       "    }\n",
       "\n",
       "    .dataframe thead th {\n",
       "        text-align: right;\n",
       "    }\n",
       "</style>\n",
       "<table border=\"1\" class=\"dataframe\">\n",
       "  <thead>\n",
       "    <tr style=\"text-align: right;\">\n",
       "      <th></th>\n",
       "      <th>business_id</th>\n",
       "      <th>rating_freq</th>\n",
       "      <th>predicated_rating</th>\n",
       "      <th>corrected_ranting</th>\n",
       "    </tr>\n",
       "  </thead>\n",
       "  <tbody>\n",
       "    <tr>\n",
       "      <th>1</th>\n",
       "      <td>5Q49MxuWJgXS649i7i2Iow</td>\n",
       "      <td>10</td>\n",
       "      <td>4.416667</td>\n",
       "      <td>4.100439</td>\n",
       "    </tr>\n",
       "    <tr>\n",
       "      <th>0</th>\n",
       "      <td>SmY_Xw31b2xyzsKbimQiHQ</td>\n",
       "      <td>15</td>\n",
       "      <td>4.346154</td>\n",
       "      <td>4.087955</td>\n",
       "    </tr>\n",
       "    <tr>\n",
       "      <th>2</th>\n",
       "      <td>N6ff0yyo9Cv_7XPz-YDoow</td>\n",
       "      <td>7</td>\n",
       "      <td>4.308696</td>\n",
       "      <td>3.930731</td>\n",
       "    </tr>\n",
       "    <tr>\n",
       "      <th>3</th>\n",
       "      <td>UmFnmIoLCRe1ywY0bzpRrQ</td>\n",
       "      <td>4</td>\n",
       "      <td>4.307692</td>\n",
       "      <td>3.807692</td>\n",
       "    </tr>\n",
       "    <tr>\n",
       "      <th>4</th>\n",
       "      <td>p204PQg45gECcYwxCAK1wA</td>\n",
       "      <td>3</td>\n",
       "      <td>4.307692</td>\n",
       "      <td>3.730342</td>\n",
       "    </tr>\n",
       "  </tbody>\n",
       "</table>\n",
       "</div>"
      ],
      "text/plain": [
       "              business_id  rating_freq  predicated_rating  corrected_ranting\n",
       "1  5Q49MxuWJgXS649i7i2Iow           10           4.416667           4.100439\n",
       "0  SmY_Xw31b2xyzsKbimQiHQ           15           4.346154           4.087955\n",
       "2  N6ff0yyo9Cv_7XPz-YDoow            7           4.308696           3.930731\n",
       "3  UmFnmIoLCRe1ywY0bzpRrQ            4           4.307692           3.807692\n",
       "4  p204PQg45gECcYwxCAK1wA            3           4.307692           3.730342"
      ]
     },
     "execution_count": 51,
     "metadata": {},
     "output_type": "execute_result"
    }
   ],
   "source": [
    "ranking_user_buss(proposed_buss, rating)"
   ]
  },
  {
   "cell_type": "markdown",
   "metadata": {},
   "source": [
    "### **Model Based Collaborative Filtering Recom. Sys.**"
   ]
  },
  {
   "cell_type": "markdown",
   "metadata": {},
   "source": [
    "#### **Model 6: Matrix Factorization Recom. Sys.**"
   ]
  },
  {
   "cell_type": "code",
   "execution_count": 52,
   "metadata": {},
   "outputs": [
    {
     "data": {
      "text/plain": [
       "<surprise.prediction_algorithms.matrix_factorization.SVD at 0x1b9730dc550>"
      ]
     },
     "execution_count": 52,
     "metadata": {},
     "output_type": "execute_result"
    }
   ],
   "source": [
    "svd = SVD(random_state=1)\n",
    "svd.fit(train_set)"
   ]
  },
  {
   "cell_type": "code",
   "execution_count": 53,
   "metadata": {},
   "outputs": [
    {
     "name": "stdout",
     "output_type": "stream",
     "text": [
      "RMSE: 0.9630\n",
      "Precision:  0.77\n",
      "Recall:  0.383\n",
      "F_1 score:  0.512\n"
     ]
    }
   ],
   "source": [
    "performance_at_k(svd, test_set, 10, 3.5)"
   ]
  },
  {
   "cell_type": "markdown",
   "metadata": {},
   "source": [
    "- The precision is 77% which means out of the 10 recommended resturants 77% of them are relevent. \n",
    "- The recall is ~38.3% which indicates that out of all relevant resturants only 38.3% were recommended. \n",
    "- Let's do hyperparameter tuning to improve these values. "
   ]
  },
  {
   "cell_type": "code",
   "execution_count": 54,
   "metadata": {},
   "outputs": [
    {
     "data": {
      "text/plain": [
       "Prediction(uid='rLtl8ZkDX5vH5nAx9C3q5Q', iid='9yKzy9PApeiPPOUJEtnvkg', r_ui=5, est=4.155179595069889, details={'was_impossible': False})"
      ]
     },
     "execution_count": 54,
     "metadata": {},
     "output_type": "execute_result"
    }
   ],
   "source": [
    "# let's predict value for specific user and it. \n",
    "svd.predict('rLtl8ZkDX5vH5nAx9C3q5Q', '9yKzy9PApeiPPOUJEtnvkg', r_ui=5)"
   ]
  },
  {
   "cell_type": "markdown",
   "metadata": {},
   "source": [
    "- For user: rLtl8ZkDX5vH5nAx9C3q5Q' and bussiness: '9yKzy9PApeiPPOUJEtnvkg' the actual rating is 5 and this model predict 4.15. "
   ]
  },
  {
   "cell_type": "code",
   "execution_count": 55,
   "metadata": {},
   "outputs": [
    {
     "data": {
      "text/plain": [
       "Prediction(uid='rLtl8ZkDX5vH5nAx9C3q5Q', iid='zp713qNhx8d9KCJJnrw1xA', r_ui=None, est=4.09204353877637, details={'was_impossible': False})"
      ]
     },
     "execution_count": 55,
     "metadata": {},
     "output_type": "execute_result"
    }
   ],
   "source": [
    "# let's predict value for specific user and it. \n",
    "svd.predict('rLtl8ZkDX5vH5nAx9C3q5Q', 'zp713qNhx8d9KCJJnrw1xA')"
   ]
  },
  {
   "cell_type": "markdown",
   "metadata": {},
   "source": [
    "- For user: rLtl8ZkDX5vH5nAx9C3q5Q' and bussiness: 'zp713qNhx8d9KCJJnrw1xA' which no rating is available the model predict 4.1. "
   ]
  },
  {
   "cell_type": "markdown",
   "metadata": {},
   "source": [
    "#### **Model 7: Matrix Factorization Recom. Sys. - Hyperparameter Tuning**"
   ]
  },
  {
   "cell_type": "code",
   "execution_count": 56,
   "metadata": {},
   "outputs": [
    {
     "name": "stdout",
     "output_type": "stream",
     "text": [
      "0.9578466550375012\n",
      "{'n_epochs': 30, 'lr_all': 0.01, 'reg_all': 0.2}\n"
     ]
    }
   ],
   "source": [
    "param_grid_svd= {'n_epochs': [10, 20, 30], \n",
    "                 'lr_all': [0.001, 0.005, 0.01], \n",
    "                 'reg_all': [0.2, 0.4, 0.6]}\n",
    "\n",
    "svd_tune = GridSearchCV(SVD, param_grid_svd, measures= ['rmse'], n_jobs=-1, cv=3)\n",
    "svd_tune.fit(user_buss_matrix)\n",
    "print(svd_tune.best_score['rmse'])\n",
    "print(svd_tune.best_params['rmse'])"
   ]
  },
  {
   "cell_type": "code",
   "execution_count": 57,
   "metadata": {},
   "outputs": [
    {
     "data": {
      "text/plain": [
       "<surprise.prediction_algorithms.matrix_factorization.SVD at 0x1b9757cd790>"
      ]
     },
     "execution_count": 57,
     "metadata": {},
     "output_type": "execute_result"
    }
   ],
   "source": [
    "svd_optimized = SVD(n_epochs=30, lr_all=0.01, reg_all=0.2, random_state=1)\n",
    "svd_optimized.fit(train_set)"
   ]
  },
  {
   "cell_type": "code",
   "execution_count": 58,
   "metadata": {},
   "outputs": [
    {
     "name": "stdout",
     "output_type": "stream",
     "text": [
      "RMSE: 0.9507\n",
      "Precision:  0.79\n",
      "Recall:  0.406\n",
      "F_1 score:  0.536\n"
     ]
    }
   ],
   "source": [
    "performance_at_k(svd_optimized, test_set, 10, 3.5)"
   ]
  },
  {
   "cell_type": "markdown",
   "metadata": {},
   "source": [
    "- The perofemance of the tuned model is better than the baseline model. "
   ]
  },
  {
   "cell_type": "code",
   "execution_count": 59,
   "metadata": {},
   "outputs": [
    {
     "data": {
      "text/plain": [
       "Prediction(uid='rLtl8ZkDX5vH5nAx9C3q5Q', iid='9yKzy9PApeiPPOUJEtnvkg', r_ui=5, est=3.932454657847243, details={'was_impossible': False})"
      ]
     },
     "execution_count": 59,
     "metadata": {},
     "output_type": "execute_result"
    }
   ],
   "source": [
    "svd_optimized.predict('rLtl8ZkDX5vH5nAx9C3q5Q', '9yKzy9PApeiPPOUJEtnvkg', r_ui=5)"
   ]
  },
  {
   "cell_type": "markdown",
   "metadata": {},
   "source": [
    "- For user: rLtl8ZkDX5vH5nAx9C3q5Q' and bussiness: '9yKzy9PApeiPPOUJEtnvkg' the actual rating is 5 and this model predict 3.93. "
   ]
  },
  {
   "cell_type": "code",
   "execution_count": 60,
   "metadata": {},
   "outputs": [
    {
     "data": {
      "text/plain": [
       "Prediction(uid='rLtl8ZkDX5vH5nAx9C3q5Q', iid='zp713qNhx8d9KCJJnrw1xA', r_ui=None, est=3.971056550203264, details={'was_impossible': False})"
      ]
     },
     "execution_count": 60,
     "metadata": {},
     "output_type": "execute_result"
    }
   ],
   "source": [
    "svd_optimized.predict('rLtl8ZkDX5vH5nAx9C3q5Q', 'zp713qNhx8d9KCJJnrw1xA')"
   ]
  },
  {
   "cell_type": "markdown",
   "metadata": {},
   "source": [
    "- For user: rLtl8ZkDX5vH5nAx9C3q5Q' and bussiness: 'zp713qNhx8d9KCJJnrw1xA' which no rating is available the model predict 3.97. "
   ]
  },
  {
   "cell_type": "markdown",
   "metadata": {},
   "source": [
    "#### **Implement the Recom. Sys.**"
   ]
  },
  {
   "cell_type": "code",
   "execution_count": 61,
   "metadata": {},
   "outputs": [
    {
     "data": {
      "text/html": [
       "<div>\n",
       "<style scoped>\n",
       "    .dataframe tbody tr th:only-of-type {\n",
       "        vertical-align: middle;\n",
       "    }\n",
       "\n",
       "    .dataframe tbody tr th {\n",
       "        vertical-align: top;\n",
       "    }\n",
       "\n",
       "    .dataframe thead th {\n",
       "        text-align: right;\n",
       "    }\n",
       "</style>\n",
       "<table border=\"1\" class=\"dataframe\">\n",
       "  <thead>\n",
       "    <tr style=\"text-align: right;\">\n",
       "      <th></th>\n",
       "      <th>business_id</th>\n",
       "      <th>predicated_rating</th>\n",
       "    </tr>\n",
       "  </thead>\n",
       "  <tbody>\n",
       "    <tr>\n",
       "      <th>0</th>\n",
       "      <td>X3icXUyW9vS4UXY6V_MR4w</td>\n",
       "      <td>4.789969</td>\n",
       "    </tr>\n",
       "    <tr>\n",
       "      <th>1</th>\n",
       "      <td>XRBTHOXaJK_AJ2wy5mX_1A</td>\n",
       "      <td>4.754191</td>\n",
       "    </tr>\n",
       "    <tr>\n",
       "      <th>2</th>\n",
       "      <td>4SviSw8uRF0ddj_HxUVnuA</td>\n",
       "      <td>4.731789</td>\n",
       "    </tr>\n",
       "    <tr>\n",
       "      <th>3</th>\n",
       "      <td>mQde7KRomOQoUyPGTqeXhA</td>\n",
       "      <td>4.730324</td>\n",
       "    </tr>\n",
       "    <tr>\n",
       "      <th>4</th>\n",
       "      <td>97Z7j4vH0kfzL10AONi4uA</td>\n",
       "      <td>4.708755</td>\n",
       "    </tr>\n",
       "  </tbody>\n",
       "</table>\n",
       "</div>"
      ],
      "text/plain": [
       "              business_id  predicated_rating\n",
       "0  X3icXUyW9vS4UXY6V_MR4w           4.789969\n",
       "1  XRBTHOXaJK_AJ2wy5mX_1A           4.754191\n",
       "2  4SviSw8uRF0ddj_HxUVnuA           4.731789\n",
       "3  mQde7KRomOQoUyPGTqeXhA           4.730324\n",
       "4  97Z7j4vH0kfzL10AONi4uA           4.708755"
      ]
     },
     "execution_count": 61,
     "metadata": {},
     "output_type": "execute_result"
    }
   ],
   "source": [
    "proposed_buss = recom_model2(svd_optimized, df, 'rLtl8ZkDX5vH5nAx9C3q5Q', 5)\n",
    "pd.DataFrame(proposed_buss, columns=['business_id', 'predicated_rating'])"
   ]
  },
  {
   "cell_type": "code",
   "execution_count": 62,
   "metadata": {},
   "outputs": [
    {
     "data": {
      "text/html": [
       "<div>\n",
       "<style scoped>\n",
       "    .dataframe tbody tr th:only-of-type {\n",
       "        vertical-align: middle;\n",
       "    }\n",
       "\n",
       "    .dataframe tbody tr th {\n",
       "        vertical-align: top;\n",
       "    }\n",
       "\n",
       "    .dataframe thead th {\n",
       "        text-align: right;\n",
       "    }\n",
       "</style>\n",
       "<table border=\"1\" class=\"dataframe\">\n",
       "  <thead>\n",
       "    <tr style=\"text-align: right;\">\n",
       "      <th></th>\n",
       "      <th>business_id</th>\n",
       "      <th>rating_freq</th>\n",
       "      <th>predicated_rating</th>\n",
       "      <th>corrected_ranting</th>\n",
       "    </tr>\n",
       "  </thead>\n",
       "  <tbody>\n",
       "    <tr>\n",
       "      <th>0</th>\n",
       "      <td>X3icXUyW9vS4UXY6V_MR4w</td>\n",
       "      <td>79</td>\n",
       "      <td>4.789969</td>\n",
       "      <td>4.677460</td>\n",
       "    </tr>\n",
       "    <tr>\n",
       "      <th>1</th>\n",
       "      <td>97Z7j4vH0kfzL10AONi4uA</td>\n",
       "      <td>78</td>\n",
       "      <td>4.708755</td>\n",
       "      <td>4.595527</td>\n",
       "    </tr>\n",
       "    <tr>\n",
       "      <th>2</th>\n",
       "      <td>mQde7KRomOQoUyPGTqeXhA</td>\n",
       "      <td>34</td>\n",
       "      <td>4.730324</td>\n",
       "      <td>4.558825</td>\n",
       "    </tr>\n",
       "    <tr>\n",
       "      <th>3</th>\n",
       "      <td>XRBTHOXaJK_AJ2wy5mX_1A</td>\n",
       "      <td>26</td>\n",
       "      <td>4.754191</td>\n",
       "      <td>4.558075</td>\n",
       "    </tr>\n",
       "    <tr>\n",
       "      <th>4</th>\n",
       "      <td>4SviSw8uRF0ddj_HxUVnuA</td>\n",
       "      <td>10</td>\n",
       "      <td>4.731789</td>\n",
       "      <td>4.415561</td>\n",
       "    </tr>\n",
       "  </tbody>\n",
       "</table>\n",
       "</div>"
      ],
      "text/plain": [
       "              business_id  rating_freq  predicated_rating  corrected_ranting\n",
       "0  X3icXUyW9vS4UXY6V_MR4w           79           4.789969           4.677460\n",
       "1  97Z7j4vH0kfzL10AONi4uA           78           4.708755           4.595527\n",
       "2  mQde7KRomOQoUyPGTqeXhA           34           4.730324           4.558825\n",
       "3  XRBTHOXaJK_AJ2wy5mX_1A           26           4.754191           4.558075\n",
       "4  4SviSw8uRF0ddj_HxUVnuA           10           4.731789           4.415561"
      ]
     },
     "execution_count": 62,
     "metadata": {},
     "output_type": "execute_result"
    }
   ],
   "source": [
    "ranking_user_buss(proposed_buss, rating)"
   ]
  },
  {
   "cell_type": "markdown",
   "metadata": {},
   "source": [
    "### **Clustering-Based Recom. Sys.**"
   ]
  },
  {
   "cell_type": "markdown",
   "metadata": {},
   "source": [
    "#### **Model 8: Coclustering Recom. Sys.**"
   ]
  },
  {
   "cell_type": "code",
   "execution_count": 63,
   "metadata": {},
   "outputs": [
    {
     "data": {
      "text/plain": [
       "<surprise.prediction_algorithms.co_clustering.CoClustering at 0x1b973fbd390>"
      ]
     },
     "execution_count": 63,
     "metadata": {},
     "output_type": "execute_result"
    }
   ],
   "source": [
    "coclustering_model = CoClustering(random_state=1)\n",
    "coclustering_model.fit(train_set)"
   ]
  },
  {
   "cell_type": "code",
   "execution_count": 64,
   "metadata": {},
   "outputs": [
    {
     "name": "stdout",
     "output_type": "stream",
     "text": [
      "RMSE: 1.0378\n",
      "Precision:  0.765\n",
      "Recall:  0.403\n",
      "F_1 score:  0.528\n"
     ]
    }
   ],
   "source": [
    "performance_at_k(coclustering_model, test_set, 10, 3.5)"
   ]
  },
  {
   "cell_type": "markdown",
   "metadata": {},
   "source": [
    "- The precision is 76.5% which means out of the 10 recommended resturants 76.5% of them are relevent. \n",
    "- The recall is ~40.3% which indicates that out of all relevant resturants only 40.3% were recommended. \n",
    "- Let's do hyperparameter tuning to improve these values. "
   ]
  },
  {
   "cell_type": "code",
   "execution_count": 65,
   "metadata": {},
   "outputs": [
    {
     "data": {
      "text/plain": [
       "Prediction(uid='rLtl8ZkDX5vH5nAx9C3q5Q', iid='9yKzy9PApeiPPOUJEtnvkg', r_ui=5, est=3.966289107885623, details={'was_impossible': False})"
      ]
     },
     "execution_count": 65,
     "metadata": {},
     "output_type": "execute_result"
    }
   ],
   "source": [
    "coclustering_model.predict('rLtl8ZkDX5vH5nAx9C3q5Q', '9yKzy9PApeiPPOUJEtnvkg', r_ui=5)"
   ]
  },
  {
   "cell_type": "markdown",
   "metadata": {},
   "source": [
    "- For user: rLtl8ZkDX5vH5nAx9C3q5Q' and bussiness: '9yKzy9PApeiPPOUJEtnvkg' the actual rating is 5 and this model predict 3.96. "
   ]
  },
  {
   "cell_type": "code",
   "execution_count": 66,
   "metadata": {},
   "outputs": [
    {
     "data": {
      "text/plain": [
       "Prediction(uid='rLtl8ZkDX5vH5nAx9C3q5Q', iid='zp713qNhx8d9KCJJnrw1xA', r_ui=None, est=3.7039820276856474, details={'was_impossible': False})"
      ]
     },
     "execution_count": 66,
     "metadata": {},
     "output_type": "execute_result"
    }
   ],
   "source": [
    "coclustering_model.predict('rLtl8ZkDX5vH5nAx9C3q5Q', 'zp713qNhx8d9KCJJnrw1xA')"
   ]
  },
  {
   "cell_type": "markdown",
   "metadata": {},
   "source": [
    "- For user: rLtl8ZkDX5vH5nAx9C3q5Q' and bussiness: 'zp713qNhx8d9KCJJnrw1xA' which no rating is available the model predict 3.7."
   ]
  },
  {
   "cell_type": "markdown",
   "metadata": {},
   "source": [
    "#### **Model 9: Coclustering Recom. Sys. - Hyperparameter Tuning**"
   ]
  },
  {
   "cell_type": "markdown",
   "metadata": {},
   "source": [
    "- The parameters that we need to tune are: \n",
    "\n",
    "`n_cltr_u` – Number of user clusters. Default is 3.\n",
    "\n",
    "`n_cltr_i` – Number of item clusters. Default is 3.\n",
    "\n",
    "`n_epochs` – Number of iteration of the optimization loop. Default is 20."
   ]
  },
  {
   "cell_type": "code",
   "execution_count": 67,
   "metadata": {},
   "outputs": [
    {
     "name": "stdout",
     "output_type": "stream",
     "text": [
      "1.0346206527074424\n",
      "{'n_epochs': 50, 'n_cltr_i': 2, 'n_cltr_u': 2}\n"
     ]
    }
   ],
   "source": [
    "param_grid_cocluster= {'n_epochs': [10, 20, 30, 40, 50, 60], \n",
    "                 'n_cltr_i': [2, 3, 4, 5, 6, 7 ,8], \n",
    "                 'n_cltr_u': [2, 3, 4, 5, 6, 7, 8]}\n",
    "\n",
    "coclustering_tune = GridSearchCV(CoClustering, param_grid_cocluster, measures= ['rmse'], n_jobs=-1, cv=3)\n",
    "coclustering_tune.fit(user_buss_matrix)\n",
    "print(coclustering_tune.best_score['rmse'])\n",
    "print(coclustering_tune.best_params['rmse'])"
   ]
  },
  {
   "cell_type": "code",
   "execution_count": 68,
   "metadata": {},
   "outputs": [
    {
     "data": {
      "text/plain": [
       "<surprise.prediction_algorithms.co_clustering.CoClustering at 0x1b971585dd0>"
      ]
     },
     "execution_count": 68,
     "metadata": {},
     "output_type": "execute_result"
    }
   ],
   "source": [
    "coclustering_optimized = CoClustering(n_epochs=50, n_cltr_i=2, n_cltr_u=2, random_state=1)\n",
    "coclustering_optimized.fit(train_set)"
   ]
  },
  {
   "cell_type": "code",
   "execution_count": 69,
   "metadata": {},
   "outputs": [
    {
     "name": "stdout",
     "output_type": "stream",
     "text": [
      "RMSE: 1.0295\n",
      "Precision:  0.762\n",
      "Recall:  0.402\n",
      "F_1 score:  0.526\n"
     ]
    }
   ],
   "source": [
    "performance_at_k(coclustering_optimized, test_set, 10, 3.5)"
   ]
  },
  {
   "cell_type": "markdown",
   "metadata": {},
   "source": [
    "The performance of the base model is better than the tuned model. "
   ]
  },
  {
   "cell_type": "code",
   "execution_count": 70,
   "metadata": {},
   "outputs": [
    {
     "data": {
      "text/plain": [
       "Prediction(uid='rLtl8ZkDX5vH5nAx9C3q5Q', iid='9yKzy9PApeiPPOUJEtnvkg', r_ui=5, est=3.933737152286369, details={'was_impossible': False})"
      ]
     },
     "execution_count": 70,
     "metadata": {},
     "output_type": "execute_result"
    }
   ],
   "source": [
    "coclustering_optimized.predict('rLtl8ZkDX5vH5nAx9C3q5Q', '9yKzy9PApeiPPOUJEtnvkg', r_ui=5)"
   ]
  },
  {
   "cell_type": "markdown",
   "metadata": {},
   "source": [
    "- For user: rLtl8ZkDX5vH5nAx9C3q5Q' and bussiness: '9yKzy9PApeiPPOUJEtnvkg' the actual rating is 5 and this model predict 3.93. "
   ]
  },
  {
   "cell_type": "code",
   "execution_count": 71,
   "metadata": {},
   "outputs": [
    {
     "data": {
      "text/plain": [
       "Prediction(uid='rLtl8ZkDX5vH5nAx9C3q5Q', iid='zp713qNhx8d9KCJJnrw1xA', r_ui=None, est=3.7454293705545654, details={'was_impossible': False})"
      ]
     },
     "execution_count": 71,
     "metadata": {},
     "output_type": "execute_result"
    }
   ],
   "source": [
    "coclustering_optimized.predict('rLtl8ZkDX5vH5nAx9C3q5Q', 'zp713qNhx8d9KCJJnrw1xA')"
   ]
  },
  {
   "cell_type": "markdown",
   "metadata": {},
   "source": [
    "- For user: rLtl8ZkDX5vH5nAx9C3q5Q' and bussiness: 'zp713qNhx8d9KCJJnrw1xA' which no rating is available the model predict 3.74. "
   ]
  },
  {
   "cell_type": "markdown",
   "metadata": {},
   "source": [
    "#### **Implement the Recom. Sys.**"
   ]
  },
  {
   "cell_type": "code",
   "execution_count": 72,
   "metadata": {},
   "outputs": [
    {
     "data": {
      "text/html": [
       "<div>\n",
       "<style scoped>\n",
       "    .dataframe tbody tr th:only-of-type {\n",
       "        vertical-align: middle;\n",
       "    }\n",
       "\n",
       "    .dataframe tbody tr th {\n",
       "        vertical-align: top;\n",
       "    }\n",
       "\n",
       "    .dataframe thead th {\n",
       "        text-align: right;\n",
       "    }\n",
       "</style>\n",
       "<table border=\"1\" class=\"dataframe\">\n",
       "  <thead>\n",
       "    <tr style=\"text-align: right;\">\n",
       "      <th></th>\n",
       "      <th>business_id</th>\n",
       "      <th>predicated_rating</th>\n",
       "    </tr>\n",
       "  </thead>\n",
       "  <tbody>\n",
       "    <tr>\n",
       "      <th>0</th>\n",
       "      <td>--5jkZ3-nUPZxUvtcbr8Uw</td>\n",
       "      <td>5</td>\n",
       "    </tr>\n",
       "    <tr>\n",
       "      <th>1</th>\n",
       "      <td>-7XuLxfYwZ9x72mEKXdv0A</td>\n",
       "      <td>5</td>\n",
       "    </tr>\n",
       "    <tr>\n",
       "      <th>2</th>\n",
       "      <td>-A82xEVAjOYZtDdRQw1FQw</td>\n",
       "      <td>5</td>\n",
       "    </tr>\n",
       "    <tr>\n",
       "      <th>3</th>\n",
       "      <td>-JYWpdJfMkqCTA_7fyz6Cw</td>\n",
       "      <td>5</td>\n",
       "    </tr>\n",
       "    <tr>\n",
       "      <th>4</th>\n",
       "      <td>-JaNk2DOQdpjTl5Bu-iehg</td>\n",
       "      <td>5</td>\n",
       "    </tr>\n",
       "  </tbody>\n",
       "</table>\n",
       "</div>"
      ],
      "text/plain": [
       "              business_id  predicated_rating\n",
       "0  --5jkZ3-nUPZxUvtcbr8Uw                  5\n",
       "1  -7XuLxfYwZ9x72mEKXdv0A                  5\n",
       "2  -A82xEVAjOYZtDdRQw1FQw                  5\n",
       "3  -JYWpdJfMkqCTA_7fyz6Cw                  5\n",
       "4  -JaNk2DOQdpjTl5Bu-iehg                  5"
      ]
     },
     "execution_count": 72,
     "metadata": {},
     "output_type": "execute_result"
    }
   ],
   "source": [
    "proposed_buss = recom_model2(coclustering_optimized, df, 'rLtl8ZkDX5vH5nAx9C3q5Q', 5)\n",
    "pd.DataFrame(proposed_buss, columns=['business_id', 'predicated_rating'])"
   ]
  },
  {
   "cell_type": "code",
   "execution_count": 73,
   "metadata": {},
   "outputs": [
    {
     "data": {
      "text/html": [
       "<div>\n",
       "<style scoped>\n",
       "    .dataframe tbody tr th:only-of-type {\n",
       "        vertical-align: middle;\n",
       "    }\n",
       "\n",
       "    .dataframe tbody tr th {\n",
       "        vertical-align: top;\n",
       "    }\n",
       "\n",
       "    .dataframe thead th {\n",
       "        text-align: right;\n",
       "    }\n",
       "</style>\n",
       "<table border=\"1\" class=\"dataframe\">\n",
       "  <thead>\n",
       "    <tr style=\"text-align: right;\">\n",
       "      <th></th>\n",
       "      <th>business_id</th>\n",
       "      <th>rating_freq</th>\n",
       "      <th>predicated_rating</th>\n",
       "      <th>corrected_ranting</th>\n",
       "    </tr>\n",
       "  </thead>\n",
       "  <tbody>\n",
       "    <tr>\n",
       "      <th>0</th>\n",
       "      <td>--5jkZ3-nUPZxUvtcbr8Uw</td>\n",
       "      <td>11</td>\n",
       "      <td>5</td>\n",
       "      <td>4.698489</td>\n",
       "    </tr>\n",
       "    <tr>\n",
       "      <th>1</th>\n",
       "      <td>-7XuLxfYwZ9x72mEKXdv0A</td>\n",
       "      <td>5</td>\n",
       "      <td>5</td>\n",
       "      <td>4.552786</td>\n",
       "    </tr>\n",
       "    <tr>\n",
       "      <th>2</th>\n",
       "      <td>-A82xEVAjOYZtDdRQw1FQw</td>\n",
       "      <td>5</td>\n",
       "      <td>5</td>\n",
       "      <td>4.552786</td>\n",
       "    </tr>\n",
       "    <tr>\n",
       "      <th>3</th>\n",
       "      <td>-JYWpdJfMkqCTA_7fyz6Cw</td>\n",
       "      <td>4</td>\n",
       "      <td>5</td>\n",
       "      <td>4.500000</td>\n",
       "    </tr>\n",
       "    <tr>\n",
       "      <th>4</th>\n",
       "      <td>-JaNk2DOQdpjTl5Bu-iehg</td>\n",
       "      <td>3</td>\n",
       "      <td>5</td>\n",
       "      <td>4.422650</td>\n",
       "    </tr>\n",
       "  </tbody>\n",
       "</table>\n",
       "</div>"
      ],
      "text/plain": [
       "              business_id  rating_freq  predicated_rating  corrected_ranting\n",
       "0  --5jkZ3-nUPZxUvtcbr8Uw           11                  5           4.698489\n",
       "1  -7XuLxfYwZ9x72mEKXdv0A            5                  5           4.552786\n",
       "2  -A82xEVAjOYZtDdRQw1FQw            5                  5           4.552786\n",
       "3  -JYWpdJfMkqCTA_7fyz6Cw            4                  5           4.500000\n",
       "4  -JaNk2DOQdpjTl5Bu-iehg            3                  5           4.422650"
      ]
     },
     "execution_count": 73,
     "metadata": {},
     "output_type": "execute_result"
    }
   ],
   "source": [
    "ranking_user_buss(proposed_buss, rating)"
   ]
  },
  {
   "cell_type": "markdown",
   "metadata": {},
   "source": [
    "## **Conclusion**"
   ]
  },
  {
   "cell_type": "markdown",
   "metadata": {},
   "source": []
  }
 ],
 "metadata": {
  "kernelspec": {
   "display_name": "MIT_course",
   "language": "python",
   "name": "python3"
  },
  "language_info": {
   "codemirror_mode": {
    "name": "ipython",
    "version": 3
   },
   "file_extension": ".py",
   "mimetype": "text/x-python",
   "name": "python",
   "nbconvert_exporter": "python",
   "pygments_lexer": "ipython3",
   "version": "3.11.8"
  }
 },
 "nbformat": 4,
 "nbformat_minor": 2
}
